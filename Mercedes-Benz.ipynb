{
 "cells": [
  {
   "cell_type": "markdown",
   "id": "9aa69edb-1746-4228-8678-cfd6e3000259",
   "metadata": {},
   "source": [
    "## Mercedes-Benz Greener Manufacturing"
   ]
  },
  {
   "cell_type": "markdown",
   "id": "ec8768c1-e1b9-4a23-8542-a8c790c04a3f",
   "metadata": {},
   "source": [
    "**Objective**-You are required to reduce the time that cars spend on the test bench. Others will work with a dataset representing different permutations of features in a Mercedes-Benz car to predict the time it takes to pass testing. Optimal algorithms will contribute to faster testing, resulting in lower carbon dioxide emissions without reducing Mercedes-Benz’s standards."
   ]
  },
  {
   "cell_type": "code",
   "execution_count": 1,
   "id": "3fe6dca3-ce3c-43cc-8ab6-da1ff1889792",
   "metadata": {},
   "outputs": [],
   "source": [
    "# Importing the required libraries\n",
    "\n",
    "import numpy as np\n",
    "import pandas as pd\n",
    "from sklearn.decomposition import PCA\n",
    "import matplotlib.pyplot as plt\n",
    "import seaborn as sns\n",
    "import matplotlib.pyplot as plt\n",
    "import warnings\n",
    "warnings.filterwarnings('ignore')"
   ]
  },
  {
   "cell_type": "code",
   "execution_count": 2,
   "id": "8be8b9c2-abf1-459f-953f-768fa662af90",
   "metadata": {},
   "outputs": [],
   "source": [
    "# Importing the data \n",
    "\n",
    "train = pd.read_csv('train.csv')\n",
    "test = pd.read_csv('test.csv')"
   ]
  },
  {
   "cell_type": "code",
   "execution_count": 6,
   "id": "7ec0d0c0-0744-4f4b-bc29-c234867a24b0",
   "metadata": {},
   "outputs": [
    {
     "data": {
      "text/html": [
       "<div>\n",
       "<style scoped>\n",
       "    .dataframe tbody tr th:only-of-type {\n",
       "        vertical-align: middle;\n",
       "    }\n",
       "\n",
       "    .dataframe tbody tr th {\n",
       "        vertical-align: top;\n",
       "    }\n",
       "\n",
       "    .dataframe thead th {\n",
       "        text-align: right;\n",
       "    }\n",
       "</style>\n",
       "<table border=\"1\" class=\"dataframe\">\n",
       "  <thead>\n",
       "    <tr style=\"text-align: right;\">\n",
       "      <th></th>\n",
       "      <th>ID</th>\n",
       "      <th>y</th>\n",
       "      <th>X0</th>\n",
       "      <th>X1</th>\n",
       "      <th>X2</th>\n",
       "      <th>X3</th>\n",
       "      <th>X4</th>\n",
       "      <th>X5</th>\n",
       "      <th>X6</th>\n",
       "      <th>X8</th>\n",
       "      <th>...</th>\n",
       "      <th>X375</th>\n",
       "      <th>X376</th>\n",
       "      <th>X377</th>\n",
       "      <th>X378</th>\n",
       "      <th>X379</th>\n",
       "      <th>X380</th>\n",
       "      <th>X382</th>\n",
       "      <th>X383</th>\n",
       "      <th>X384</th>\n",
       "      <th>X385</th>\n",
       "    </tr>\n",
       "  </thead>\n",
       "  <tbody>\n",
       "    <tr>\n",
       "      <th>0</th>\n",
       "      <td>0</td>\n",
       "      <td>130.81</td>\n",
       "      <td>k</td>\n",
       "      <td>v</td>\n",
       "      <td>at</td>\n",
       "      <td>a</td>\n",
       "      <td>d</td>\n",
       "      <td>u</td>\n",
       "      <td>j</td>\n",
       "      <td>o</td>\n",
       "      <td>...</td>\n",
       "      <td>0</td>\n",
       "      <td>0</td>\n",
       "      <td>1</td>\n",
       "      <td>0</td>\n",
       "      <td>0</td>\n",
       "      <td>0</td>\n",
       "      <td>0</td>\n",
       "      <td>0</td>\n",
       "      <td>0</td>\n",
       "      <td>0</td>\n",
       "    </tr>\n",
       "    <tr>\n",
       "      <th>1</th>\n",
       "      <td>6</td>\n",
       "      <td>88.53</td>\n",
       "      <td>k</td>\n",
       "      <td>t</td>\n",
       "      <td>av</td>\n",
       "      <td>e</td>\n",
       "      <td>d</td>\n",
       "      <td>y</td>\n",
       "      <td>l</td>\n",
       "      <td>o</td>\n",
       "      <td>...</td>\n",
       "      <td>1</td>\n",
       "      <td>0</td>\n",
       "      <td>0</td>\n",
       "      <td>0</td>\n",
       "      <td>0</td>\n",
       "      <td>0</td>\n",
       "      <td>0</td>\n",
       "      <td>0</td>\n",
       "      <td>0</td>\n",
       "      <td>0</td>\n",
       "    </tr>\n",
       "    <tr>\n",
       "      <th>2</th>\n",
       "      <td>7</td>\n",
       "      <td>76.26</td>\n",
       "      <td>az</td>\n",
       "      <td>w</td>\n",
       "      <td>n</td>\n",
       "      <td>c</td>\n",
       "      <td>d</td>\n",
       "      <td>x</td>\n",
       "      <td>j</td>\n",
       "      <td>x</td>\n",
       "      <td>...</td>\n",
       "      <td>0</td>\n",
       "      <td>0</td>\n",
       "      <td>0</td>\n",
       "      <td>0</td>\n",
       "      <td>0</td>\n",
       "      <td>0</td>\n",
       "      <td>1</td>\n",
       "      <td>0</td>\n",
       "      <td>0</td>\n",
       "      <td>0</td>\n",
       "    </tr>\n",
       "    <tr>\n",
       "      <th>3</th>\n",
       "      <td>9</td>\n",
       "      <td>80.62</td>\n",
       "      <td>az</td>\n",
       "      <td>t</td>\n",
       "      <td>n</td>\n",
       "      <td>f</td>\n",
       "      <td>d</td>\n",
       "      <td>x</td>\n",
       "      <td>l</td>\n",
       "      <td>e</td>\n",
       "      <td>...</td>\n",
       "      <td>0</td>\n",
       "      <td>0</td>\n",
       "      <td>0</td>\n",
       "      <td>0</td>\n",
       "      <td>0</td>\n",
       "      <td>0</td>\n",
       "      <td>0</td>\n",
       "      <td>0</td>\n",
       "      <td>0</td>\n",
       "      <td>0</td>\n",
       "    </tr>\n",
       "    <tr>\n",
       "      <th>4</th>\n",
       "      <td>13</td>\n",
       "      <td>78.02</td>\n",
       "      <td>az</td>\n",
       "      <td>v</td>\n",
       "      <td>n</td>\n",
       "      <td>f</td>\n",
       "      <td>d</td>\n",
       "      <td>h</td>\n",
       "      <td>d</td>\n",
       "      <td>n</td>\n",
       "      <td>...</td>\n",
       "      <td>0</td>\n",
       "      <td>0</td>\n",
       "      <td>0</td>\n",
       "      <td>0</td>\n",
       "      <td>0</td>\n",
       "      <td>0</td>\n",
       "      <td>0</td>\n",
       "      <td>0</td>\n",
       "      <td>0</td>\n",
       "      <td>0</td>\n",
       "    </tr>\n",
       "  </tbody>\n",
       "</table>\n",
       "<p>5 rows × 378 columns</p>\n",
       "</div>"
      ],
      "text/plain": [
       "   ID       y  X0 X1  X2 X3 X4 X5 X6 X8  ...  X375  X376  X377  X378  X379  \\\n",
       "0   0  130.81   k  v  at  a  d  u  j  o  ...     0     0     1     0     0   \n",
       "1   6   88.53   k  t  av  e  d  y  l  o  ...     1     0     0     0     0   \n",
       "2   7   76.26  az  w   n  c  d  x  j  x  ...     0     0     0     0     0   \n",
       "3   9   80.62  az  t   n  f  d  x  l  e  ...     0     0     0     0     0   \n",
       "4  13   78.02  az  v   n  f  d  h  d  n  ...     0     0     0     0     0   \n",
       "\n",
       "   X380  X382  X383  X384  X385  \n",
       "0     0     0     0     0     0  \n",
       "1     0     0     0     0     0  \n",
       "2     0     1     0     0     0  \n",
       "3     0     0     0     0     0  \n",
       "4     0     0     0     0     0  \n",
       "\n",
       "[5 rows x 378 columns]"
      ]
     },
     "execution_count": 6,
     "metadata": {},
     "output_type": "execute_result"
    }
   ],
   "source": [
    "train.head()"
   ]
  },
  {
   "cell_type": "code",
   "execution_count": 4,
   "id": "dfc7e7d7-d1e3-4457-a6a7-c51eac33e41f",
   "metadata": {},
   "outputs": [
    {
     "data": {
      "text/html": [
       "<div>\n",
       "<style scoped>\n",
       "    .dataframe tbody tr th:only-of-type {\n",
       "        vertical-align: middle;\n",
       "    }\n",
       "\n",
       "    .dataframe tbody tr th {\n",
       "        vertical-align: top;\n",
       "    }\n",
       "\n",
       "    .dataframe thead th {\n",
       "        text-align: right;\n",
       "    }\n",
       "</style>\n",
       "<table border=\"1\" class=\"dataframe\">\n",
       "  <thead>\n",
       "    <tr style=\"text-align: right;\">\n",
       "      <th></th>\n",
       "      <th>ID</th>\n",
       "      <th>X0</th>\n",
       "      <th>X1</th>\n",
       "      <th>X2</th>\n",
       "      <th>X3</th>\n",
       "      <th>X4</th>\n",
       "      <th>X5</th>\n",
       "      <th>X6</th>\n",
       "      <th>X8</th>\n",
       "      <th>X10</th>\n",
       "      <th>...</th>\n",
       "      <th>X375</th>\n",
       "      <th>X376</th>\n",
       "      <th>X377</th>\n",
       "      <th>X378</th>\n",
       "      <th>X379</th>\n",
       "      <th>X380</th>\n",
       "      <th>X382</th>\n",
       "      <th>X383</th>\n",
       "      <th>X384</th>\n",
       "      <th>X385</th>\n",
       "    </tr>\n",
       "  </thead>\n",
       "  <tbody>\n",
       "    <tr>\n",
       "      <th>0</th>\n",
       "      <td>1</td>\n",
       "      <td>az</td>\n",
       "      <td>v</td>\n",
       "      <td>n</td>\n",
       "      <td>f</td>\n",
       "      <td>d</td>\n",
       "      <td>t</td>\n",
       "      <td>a</td>\n",
       "      <td>w</td>\n",
       "      <td>0</td>\n",
       "      <td>...</td>\n",
       "      <td>0</td>\n",
       "      <td>0</td>\n",
       "      <td>0</td>\n",
       "      <td>1</td>\n",
       "      <td>0</td>\n",
       "      <td>0</td>\n",
       "      <td>0</td>\n",
       "      <td>0</td>\n",
       "      <td>0</td>\n",
       "      <td>0</td>\n",
       "    </tr>\n",
       "    <tr>\n",
       "      <th>1</th>\n",
       "      <td>2</td>\n",
       "      <td>t</td>\n",
       "      <td>b</td>\n",
       "      <td>ai</td>\n",
       "      <td>a</td>\n",
       "      <td>d</td>\n",
       "      <td>b</td>\n",
       "      <td>g</td>\n",
       "      <td>y</td>\n",
       "      <td>0</td>\n",
       "      <td>...</td>\n",
       "      <td>0</td>\n",
       "      <td>0</td>\n",
       "      <td>1</td>\n",
       "      <td>0</td>\n",
       "      <td>0</td>\n",
       "      <td>0</td>\n",
       "      <td>0</td>\n",
       "      <td>0</td>\n",
       "      <td>0</td>\n",
       "      <td>0</td>\n",
       "    </tr>\n",
       "    <tr>\n",
       "      <th>2</th>\n",
       "      <td>3</td>\n",
       "      <td>az</td>\n",
       "      <td>v</td>\n",
       "      <td>as</td>\n",
       "      <td>f</td>\n",
       "      <td>d</td>\n",
       "      <td>a</td>\n",
       "      <td>j</td>\n",
       "      <td>j</td>\n",
       "      <td>0</td>\n",
       "      <td>...</td>\n",
       "      <td>0</td>\n",
       "      <td>0</td>\n",
       "      <td>0</td>\n",
       "      <td>1</td>\n",
       "      <td>0</td>\n",
       "      <td>0</td>\n",
       "      <td>0</td>\n",
       "      <td>0</td>\n",
       "      <td>0</td>\n",
       "      <td>0</td>\n",
       "    </tr>\n",
       "    <tr>\n",
       "      <th>3</th>\n",
       "      <td>4</td>\n",
       "      <td>az</td>\n",
       "      <td>l</td>\n",
       "      <td>n</td>\n",
       "      <td>f</td>\n",
       "      <td>d</td>\n",
       "      <td>z</td>\n",
       "      <td>l</td>\n",
       "      <td>n</td>\n",
       "      <td>0</td>\n",
       "      <td>...</td>\n",
       "      <td>0</td>\n",
       "      <td>0</td>\n",
       "      <td>0</td>\n",
       "      <td>1</td>\n",
       "      <td>0</td>\n",
       "      <td>0</td>\n",
       "      <td>0</td>\n",
       "      <td>0</td>\n",
       "      <td>0</td>\n",
       "      <td>0</td>\n",
       "    </tr>\n",
       "    <tr>\n",
       "      <th>4</th>\n",
       "      <td>5</td>\n",
       "      <td>w</td>\n",
       "      <td>s</td>\n",
       "      <td>as</td>\n",
       "      <td>c</td>\n",
       "      <td>d</td>\n",
       "      <td>y</td>\n",
       "      <td>i</td>\n",
       "      <td>m</td>\n",
       "      <td>0</td>\n",
       "      <td>...</td>\n",
       "      <td>1</td>\n",
       "      <td>0</td>\n",
       "      <td>0</td>\n",
       "      <td>0</td>\n",
       "      <td>0</td>\n",
       "      <td>0</td>\n",
       "      <td>0</td>\n",
       "      <td>0</td>\n",
       "      <td>0</td>\n",
       "      <td>0</td>\n",
       "    </tr>\n",
       "  </tbody>\n",
       "</table>\n",
       "<p>5 rows × 377 columns</p>\n",
       "</div>"
      ],
      "text/plain": [
       "   ID  X0 X1  X2 X3 X4 X5 X6 X8  X10  ...  X375  X376  X377  X378  X379  X380  \\\n",
       "0   1  az  v   n  f  d  t  a  w    0  ...     0     0     0     1     0     0   \n",
       "1   2   t  b  ai  a  d  b  g  y    0  ...     0     0     1     0     0     0   \n",
       "2   3  az  v  as  f  d  a  j  j    0  ...     0     0     0     1     0     0   \n",
       "3   4  az  l   n  f  d  z  l  n    0  ...     0     0     0     1     0     0   \n",
       "4   5   w  s  as  c  d  y  i  m    0  ...     1     0     0     0     0     0   \n",
       "\n",
       "   X382  X383  X384  X385  \n",
       "0     0     0     0     0  \n",
       "1     0     0     0     0  \n",
       "2     0     0     0     0  \n",
       "3     0     0     0     0  \n",
       "4     0     0     0     0  \n",
       "\n",
       "[5 rows x 377 columns]"
      ]
     },
     "execution_count": 4,
     "metadata": {},
     "output_type": "execute_result"
    }
   ],
   "source": [
    "test.head()"
   ]
  },
  {
   "cell_type": "code",
   "execution_count": 7,
   "id": "31bb0b0c-79ed-4623-8607-38ce11e50861",
   "metadata": {},
   "outputs": [
    {
     "data": {
      "text/plain": [
       "Index(['ID', 'y', 'X0', 'X1', 'X2', 'X3', 'X4', 'X5', 'X6', 'X8',\n",
       "       ...\n",
       "       'X375', 'X376', 'X377', 'X378', 'X379', 'X380', 'X382', 'X383', 'X384',\n",
       "       'X385'],\n",
       "      dtype='object', length=378)"
      ]
     },
     "execution_count": 7,
     "metadata": {},
     "output_type": "execute_result"
    }
   ],
   "source": [
    "train.columns"
   ]
  },
  {
   "cell_type": "code",
   "execution_count": 8,
   "id": "05626dbd-f99d-48ac-b194-d97ac5b288e9",
   "metadata": {},
   "outputs": [
    {
     "data": {
      "text/plain": [
       "Index(['ID', 'X0', 'X1', 'X2', 'X3', 'X4', 'X5', 'X6', 'X8', 'X10',\n",
       "       ...\n",
       "       'X375', 'X376', 'X377', 'X378', 'X379', 'X380', 'X382', 'X383', 'X384',\n",
       "       'X385'],\n",
       "      dtype='object', length=377)"
      ]
     },
     "execution_count": 8,
     "metadata": {},
     "output_type": "execute_result"
    }
   ],
   "source": [
    "test.columns"
   ]
  },
  {
   "cell_type": "code",
   "execution_count": 9,
   "id": "683d814b-5acf-4b55-b0d2-0b483761bf86",
   "metadata": {},
   "outputs": [
    {
     "data": {
      "text/plain": [
       "(4209, 378)"
      ]
     },
     "execution_count": 9,
     "metadata": {},
     "output_type": "execute_result"
    }
   ],
   "source": [
    "train.shape"
   ]
  },
  {
   "cell_type": "code",
   "execution_count": 10,
   "id": "188a1e33-694e-449e-ad10-80e839be2457",
   "metadata": {},
   "outputs": [
    {
     "data": {
      "text/plain": [
       "(4209, 377)"
      ]
     },
     "execution_count": 10,
     "metadata": {},
     "output_type": "execute_result"
    }
   ],
   "source": [
    "test.shape"
   ]
  },
  {
   "cell_type": "code",
   "execution_count": 12,
   "id": "0cd45a0b-b675-400a-a629-93e18905bf94",
   "metadata": {},
   "outputs": [
    {
     "data": {
      "text/plain": [
       "array([130.81,  88.53,  76.26, ..., 109.22,  87.48, 110.85])"
      ]
     },
     "execution_count": 12,
     "metadata": {},
     "output_type": "execute_result"
    }
   ],
   "source": [
    "# Collect the Y values into an array\n",
    "y_train = train['y'].values\n",
    "y_train"
   ]
  },
  {
   "cell_type": "code",
   "execution_count": 13,
   "id": "078e2da9-2594-41d9-8b4d-995b4cc707e4",
   "metadata": {},
   "outputs": [
    {
     "name": "stdout",
     "output_type": "stream",
     "text": [
      "Number of features: 376\n",
      "Feature types:\n"
     ]
    },
    {
     "data": {
      "text/plain": [
       "int64     368\n",
       "object      8\n",
       "dtype: int64"
      ]
     },
     "execution_count": 13,
     "metadata": {},
     "output_type": "execute_result"
    }
   ],
   "source": [
    "# Understanding the data types:\n",
    "cols = [c for c in train.columns if 'X' in c]\n",
    "print('Number of features: {}'.format(len(cols)))\n",
    "print('Feature types:')\n",
    "train[cols].dtypes.value_counts()"
   ]
  },
  {
   "cell_type": "code",
   "execution_count": 14,
   "id": "e38bb2f0-6cad-430e-bfb2-4082ab4be175",
   "metadata": {},
   "outputs": [
    {
     "name": "stdout",
     "output_type": "stream",
     "text": [
      "Constant features: 12 Binary feature: 356 Categorical features: 8\n",
      "\n",
      "Constant features: ['X11', 'X93', 'X107', 'X233', 'X235', 'X268', 'X289', 'X290', 'X293', 'X297', 'X330', 'X347']\n",
      "Categorical features: ['X0', 'X1', 'X2', 'X3', 'X4', 'X5', 'X6', 'X8']\n"
     ]
    }
   ],
   "source": [
    "# Count the data in each of the columns\n",
    "\n",
    "counts = [[], [], []]\n",
    "for c in cols:\n",
    "    typ = train[c].dtype\n",
    "    uniq = len(np.unique(train[c]))\n",
    "    if uniq ==1:\n",
    "        counts[0].append(c)\n",
    "    elif uniq == 2 and typ ==np.int64:\n",
    "        counts[1].append(c)\n",
    "    else:\n",
    "        counts[2].append(c)\n",
    "print('Constant features: {} Binary feature: {} Categorical features: {}\\n'\n",
    " .format(*[len(c) for c in counts]))\n",
    "print('Constant features:',counts[0])\n",
    "print('Categorical features:', counts[2])"
   ]
  },
  {
   "cell_type": "code",
   "execution_count": 15,
   "id": "287136af-d4d6-42e7-ad74-b6a545c6b6fc",
   "metadata": {},
   "outputs": [],
   "source": [
    "# Splitting the data \n",
    " \n",
    "usable_columns = list(set(train.columns) - set(['ID','y']))\n",
    "y_train = train['y'].values\n",
    "id_test = test['ID'].values\n",
    "x_train = train[usable_columns]\n",
    "x_test = test[usable_columns]"
   ]
  },
  {
   "cell_type": "markdown",
   "id": "07e29732-8582-4d4c-b61a-7de7a0573a2a",
   "metadata": {},
   "source": [
    "**Checking for null values and unique values for train and test data**"
   ]
  },
  {
   "cell_type": "code",
   "execution_count": 20,
   "id": "169d3705-9a08-4999-ae5c-53606f3765cb",
   "metadata": {},
   "outputs": [
    {
     "data": {
      "text/plain": [
       "False"
      ]
     },
     "execution_count": 20,
     "metadata": {},
     "output_type": "execute_result"
    }
   ],
   "source": [
    "x_train.isnull().any().any()"
   ]
  },
  {
   "cell_type": "code",
   "execution_count": 21,
   "id": "3e87b696-c6a9-4031-aed6-93fe9a8242fd",
   "metadata": {},
   "outputs": [
    {
     "data": {
      "text/plain": [
       "False"
      ]
     },
     "execution_count": 21,
     "metadata": {},
     "output_type": "execute_result"
    }
   ],
   "source": [
    "x_test.isnull().any().any()"
   ]
  },
  {
   "cell_type": "markdown",
   "id": "7bf34f02-4794-409e-943f-e4d5e2eac0db",
   "metadata": {},
   "source": [
    "## **Label Encoding the Categorical Values**"
   ]
  },
  {
   "cell_type": "code",
   "execution_count": 22,
   "id": "974bf30f-240b-434c-81b2-dcc684d79438",
   "metadata": {},
   "outputs": [
    {
     "data": {
      "text/html": [
       "<div>\n",
       "<style scoped>\n",
       "    .dataframe tbody tr th:only-of-type {\n",
       "        vertical-align: middle;\n",
       "    }\n",
       "\n",
       "    .dataframe tbody tr th {\n",
       "        vertical-align: top;\n",
       "    }\n",
       "\n",
       "    .dataframe thead th {\n",
       "        text-align: right;\n",
       "    }\n",
       "</style>\n",
       "<table border=\"1\" class=\"dataframe\">\n",
       "  <thead>\n",
       "    <tr style=\"text-align: right;\">\n",
       "      <th></th>\n",
       "      <th>X315</th>\n",
       "      <th>X111</th>\n",
       "      <th>X156</th>\n",
       "      <th>X124</th>\n",
       "      <th>X207</th>\n",
       "      <th>X218</th>\n",
       "      <th>X17</th>\n",
       "      <th>X164</th>\n",
       "      <th>X74</th>\n",
       "      <th>X31</th>\n",
       "      <th>...</th>\n",
       "      <th>X34</th>\n",
       "      <th>X357</th>\n",
       "      <th>X383</th>\n",
       "      <th>X220</th>\n",
       "      <th>X350</th>\n",
       "      <th>X77</th>\n",
       "      <th>X329</th>\n",
       "      <th>X270</th>\n",
       "      <th>X150</th>\n",
       "      <th>X69</th>\n",
       "    </tr>\n",
       "  </thead>\n",
       "  <tbody>\n",
       "    <tr>\n",
       "      <th>0</th>\n",
       "      <td>0</td>\n",
       "      <td>1</td>\n",
       "      <td>1</td>\n",
       "      <td>0</td>\n",
       "      <td>0</td>\n",
       "      <td>0</td>\n",
       "      <td>0</td>\n",
       "      <td>0</td>\n",
       "      <td>1</td>\n",
       "      <td>1</td>\n",
       "      <td>...</td>\n",
       "      <td>0</td>\n",
       "      <td>0</td>\n",
       "      <td>0</td>\n",
       "      <td>1</td>\n",
       "      <td>0</td>\n",
       "      <td>0</td>\n",
       "      <td>1</td>\n",
       "      <td>0</td>\n",
       "      <td>1</td>\n",
       "      <td>0</td>\n",
       "    </tr>\n",
       "    <tr>\n",
       "      <th>1</th>\n",
       "      <td>0</td>\n",
       "      <td>1</td>\n",
       "      <td>1</td>\n",
       "      <td>0</td>\n",
       "      <td>0</td>\n",
       "      <td>0</td>\n",
       "      <td>0</td>\n",
       "      <td>0</td>\n",
       "      <td>1</td>\n",
       "      <td>1</td>\n",
       "      <td>...</td>\n",
       "      <td>0</td>\n",
       "      <td>0</td>\n",
       "      <td>0</td>\n",
       "      <td>0</td>\n",
       "      <td>0</td>\n",
       "      <td>0</td>\n",
       "      <td>1</td>\n",
       "      <td>0</td>\n",
       "      <td>1</td>\n",
       "      <td>0</td>\n",
       "    </tr>\n",
       "    <tr>\n",
       "      <th>2</th>\n",
       "      <td>0</td>\n",
       "      <td>1</td>\n",
       "      <td>0</td>\n",
       "      <td>0</td>\n",
       "      <td>0</td>\n",
       "      <td>1</td>\n",
       "      <td>1</td>\n",
       "      <td>0</td>\n",
       "      <td>1</td>\n",
       "      <td>1</td>\n",
       "      <td>...</td>\n",
       "      <td>0</td>\n",
       "      <td>0</td>\n",
       "      <td>0</td>\n",
       "      <td>1</td>\n",
       "      <td>1</td>\n",
       "      <td>0</td>\n",
       "      <td>0</td>\n",
       "      <td>0</td>\n",
       "      <td>1</td>\n",
       "      <td>0</td>\n",
       "    </tr>\n",
       "    <tr>\n",
       "      <th>3</th>\n",
       "      <td>0</td>\n",
       "      <td>1</td>\n",
       "      <td>0</td>\n",
       "      <td>0</td>\n",
       "      <td>0</td>\n",
       "      <td>1</td>\n",
       "      <td>0</td>\n",
       "      <td>0</td>\n",
       "      <td>1</td>\n",
       "      <td>1</td>\n",
       "      <td>...</td>\n",
       "      <td>0</td>\n",
       "      <td>0</td>\n",
       "      <td>0</td>\n",
       "      <td>1</td>\n",
       "      <td>1</td>\n",
       "      <td>0</td>\n",
       "      <td>0</td>\n",
       "      <td>0</td>\n",
       "      <td>1</td>\n",
       "      <td>0</td>\n",
       "    </tr>\n",
       "    <tr>\n",
       "      <th>4</th>\n",
       "      <td>0</td>\n",
       "      <td>1</td>\n",
       "      <td>0</td>\n",
       "      <td>0</td>\n",
       "      <td>0</td>\n",
       "      <td>1</td>\n",
       "      <td>0</td>\n",
       "      <td>0</td>\n",
       "      <td>1</td>\n",
       "      <td>1</td>\n",
       "      <td>...</td>\n",
       "      <td>0</td>\n",
       "      <td>0</td>\n",
       "      <td>0</td>\n",
       "      <td>1</td>\n",
       "      <td>1</td>\n",
       "      <td>0</td>\n",
       "      <td>0</td>\n",
       "      <td>0</td>\n",
       "      <td>1</td>\n",
       "      <td>0</td>\n",
       "    </tr>\n",
       "  </tbody>\n",
       "</table>\n",
       "<p>5 rows × 376 columns</p>\n",
       "</div>"
      ],
      "text/plain": [
       "   X315  X111  X156  X124  X207  X218  X17  X164  X74  X31  ...  X34  X357  \\\n",
       "0     0     1     1     0     0     0    0     0    1    1  ...    0     0   \n",
       "1     0     1     1     0     0     0    0     0    1    1  ...    0     0   \n",
       "2     0     1     0     0     0     1    1     0    1    1  ...    0     0   \n",
       "3     0     1     0     0     0     1    0     0    1    1  ...    0     0   \n",
       "4     0     1     0     0     0     1    0     0    1    1  ...    0     0   \n",
       "\n",
       "   X383  X220  X350  X77  X329  X270  X150  X69  \n",
       "0     0     1     0    0     1     0     1    0  \n",
       "1     0     0     0    0     1     0     1    0  \n",
       "2     0     1     1    0     0     0     1    0  \n",
       "3     0     1     1    0     0     0     1    0  \n",
       "4     0     1     1    0     0     0     1    0  \n",
       "\n",
       "[5 rows x 376 columns]"
      ]
     },
     "execution_count": 22,
     "metadata": {},
     "output_type": "execute_result"
    }
   ],
   "source": [
    "for column in usable_columns:\n",
    "    cardinality = len(np.unique(x_train[column]))\n",
    "    if cardinality == 1:\n",
    "        x_train.drop(column, axis=1) # column with only one \n",
    "        # value is useless so we drop it.\n",
    "        x_test.drop(column, axis=1)\n",
    "    if cardinality >2: # Column is categorical\n",
    "        mapper = lambda x: sum([ord(digit) for digit in x])\n",
    "        x_train[column] = x_train[column].apply(mapper)\n",
    "        x_test[column] = x_test[column].apply(mapper)\n",
    "x_train.head()"
   ]
  },
  {
   "cell_type": "code",
   "execution_count": 23,
   "id": "510a55b8-3679-48ac-b32b-6ee18e56eab2",
   "metadata": {},
   "outputs": [
    {
     "name": "stdout",
     "output_type": "stream",
     "text": [
      "feature dtypes:\n"
     ]
    },
    {
     "data": {
      "text/plain": [
       "int64    376\n",
       "dtype: int64"
      ]
     },
     "execution_count": 23,
     "metadata": {},
     "output_type": "execute_result"
    }
   ],
   "source": [
    "# Make sure the data is changed into numerical values\n",
    "\n",
    "print('feature dtypes:')\n",
    "x_train[cols].dtypes.value_counts()"
   ]
  },
  {
   "cell_type": "markdown",
   "id": "ccd7c06e-60ce-455a-bf22-b99a5594b068",
   "metadata": {},
   "source": [
    "## **Perform dimensionality reduction.**"
   ]
  },
  {
   "cell_type": "code",
   "execution_count": 24,
   "id": "ca968ed0-4989-4b0d-af48-09cf191ccddc",
   "metadata": {},
   "outputs": [],
   "source": [
    "n_comp = 12\n",
    "pca = PCA(n_components = n_comp,random_state = 420)\n",
    "pca2_results_train = pca.fit_transform(x_train)\n",
    "pca2_results_test = pca.transform(x_test)"
   ]
  },
  {
   "cell_type": "code",
   "execution_count": 28,
   "id": "a6128979-6066-4d98-ac13-d70accc2129c",
   "metadata": {},
   "outputs": [
    {
     "data": {
      "text/plain": [
       "array([[-49.08156207,  -4.90948084, -17.25085325, ...,   1.65805072,\n",
       "          0.93297242,   1.67842477],\n",
       "       [-48.94680383,  -7.22674339, -13.7631947 , ...,  -0.21428893,\n",
       "          0.10899682,   0.44965265],\n",
       "       [ 92.62761708,  31.9940341 , -26.17503456, ...,  -0.62195786,\n",
       "          2.92596081,  -0.52732605],\n",
       "       ...,\n",
       "       [ 89.47970814,  20.44554421,  48.11999819, ...,  -1.27196174,\n",
       "         -0.2873013 ,   2.00806385],\n",
       "       [ 96.97110845,  31.50977186,  49.20059282, ...,   0.14366004,\n",
       "         -0.9797229 ,   0.99172893],\n",
       "       [-17.21024322, -14.22166025,  55.38091289, ...,  -0.28904432,\n",
       "         -0.31653098,   0.69155615]])"
      ]
     },
     "execution_count": 28,
     "metadata": {},
     "output_type": "execute_result"
    }
   ],
   "source": [
    "pca2_results_train"
   ]
  },
  {
   "cell_type": "code",
   "execution_count": 26,
   "id": "18ade523-372f-4062-840e-e58c63c85781",
   "metadata": {},
   "outputs": [
    {
     "data": {
      "text/plain": [
       "array([[ 9.22615149e+01,  3.29260839e+01, -3.01130736e+01, ...,\n",
       "        -4.11418166e-01,  3.62103016e+00, -1.20767016e+00],\n",
       "       [-3.48622379e+01,  6.87132606e+00, -3.74760829e+01, ...,\n",
       "         6.09270156e-01, -6.95837529e-01, -4.24915489e-01],\n",
       "       [ 4.36560426e+01, -5.05939489e+01, -6.10591086e+01, ...,\n",
       "        -3.20457644e-01,  2.60144467e+00, -1.53760386e+00],\n",
       "       ...,\n",
       "       [-2.52437784e+01, -2.63794193e+01,  5.40742341e+01, ...,\n",
       "         6.03526031e-01,  2.61277676e-02,  3.67039655e-02],\n",
       "       [ 4.53823778e+01, -6.38062446e+01,  3.58666036e+01, ...,\n",
       "        -9.15188266e-01, -6.72303829e-01,  5.15228832e-01],\n",
       "       [-4.23807477e+01, -2.52862351e+01,  6.10815522e+01, ...,\n",
       "        -2.98851963e-01, -9.77085229e-01,  5.35179833e-02]])"
      ]
     },
     "execution_count": 26,
     "metadata": {},
     "output_type": "execute_result"
    }
   ],
   "source": [
    "pca2_results_test"
   ]
  },
  {
   "cell_type": "markdown",
   "id": "fe3c7bff-a571-4f39-9e66-465610523dfd",
   "metadata": {},
   "source": [
    "## **Predict your test_df values using XGBoost.**"
   ]
  },
  {
   "cell_type": "code",
   "execution_count": 29,
   "id": "4c826521-0d56-4f04-83c8-a3baf88a7d99",
   "metadata": {},
   "outputs": [],
   "source": [
    "# Training Using XGBoost\n",
    "\n",
    "import xgboost as xgb\n",
    "from sklearn.metrics import r2_score\n",
    "from sklearn.model_selection import train_test_split"
   ]
  },
  {
   "cell_type": "code",
   "execution_count": 30,
   "id": "f42db676-38e2-431c-a64d-8f197a51d25d",
   "metadata": {},
   "outputs": [],
   "source": [
    "x_train,x_val,y_train,y_val = train_test_split(pca2_results_train, y_train, test_size=0.2, random_state=4242)"
   ]
  },
  {
   "cell_type": "code",
   "execution_count": 31,
   "id": "07ba78b6-6d9d-4970-a46b-1d0c8c8b669f",
   "metadata": {},
   "outputs": [],
   "source": [
    "d_train = xgb.DMatrix(x_train,label = y_train)\n",
    "d_val = xgb.DMatrix(x_val,label = y_val)\n",
    "\n",
    "# dtest = xgb.DMatrix(x_test)\n",
    "\n",
    "d_test = xgb.DMatrix(pca2_results_test)"
   ]
  },
  {
   "cell_type": "code",
   "execution_count": 32,
   "id": "41d5d822-9407-4454-8276-a91b0e2540cc",
   "metadata": {},
   "outputs": [
    {
     "name": "stdout",
     "output_type": "stream",
     "text": [
      "[10:00:42] WARNING: ../src/learner.cc:627: \n",
      "Parameters: { \"Objective\" } might not be used.\n",
      "\n",
      "  This could be a false alarm, with some parameters getting used by language bindings but\n",
      "  then being mistakenly passed down to XGBoost core, or some parameter actually being used\n",
      "  but getting flagged wrongly here. Please open an issue if you find any such cases.\n",
      "\n",
      "\n",
      "[0]\ttrain-rmse:99.14834\ttrain-r2:-58.35295\tvalid-rmse:98.26297\tvalid-r2:-67.63754\n",
      "[10]\ttrain-rmse:81.27653\ttrain-r2:-38.88428\tvalid-rmse:80.36433\tvalid-r2:-44.91014\n",
      "[20]\ttrain-rmse:66.71610\ttrain-r2:-25.87403\tvalid-rmse:65.77334\tvalid-r2:-29.75260\n",
      "[30]\ttrain-rmse:54.86912\ttrain-r2:-17.17722\tvalid-rmse:53.89136\tvalid-r2:-19.64525\n",
      "[40]\ttrain-rmse:45.24709\ttrain-r2:-11.36097\tvalid-rmse:44.22323\tvalid-r2:-12.90218\n",
      "[50]\ttrain-rmse:37.44854\ttrain-r2:-7.46723\tvalid-rmse:36.37628\tvalid-r2:-8.40630\n",
      "[60]\ttrain-rmse:31.14584\ttrain-r2:-4.85695\tvalid-rmse:30.02266\tvalid-r2:-5.40738\n",
      "[70]\ttrain-rmse:26.08417\ttrain-r2:-3.10795\tvalid-rmse:24.91510\tvalid-r2:-3.41273\n",
      "[80]\ttrain-rmse:22.04312\ttrain-r2:-1.93371\tvalid-rmse:20.83068\tvalid-r2:-2.08453\n",
      "[90]\ttrain-rmse:18.84671\ttrain-r2:-1.14458\tvalid-rmse:17.59609\tvalid-r2:-1.20097\n",
      "[100]\ttrain-rmse:16.33297\ttrain-r2:-0.61065\tvalid-rmse:15.07907\tvalid-r2:-0.61633\n",
      "[110]\ttrain-rmse:14.39787\ttrain-r2:-0.25161\tvalid-rmse:13.14761\tvalid-r2:-0.22878\n",
      "[120]\ttrain-rmse:12.92938\ttrain-r2:-0.00932\tvalid-rmse:11.69322\tvalid-r2:0.02804\n",
      "[130]\ttrain-rmse:11.81501\ttrain-r2:0.15717\tvalid-rmse:10.61718\tvalid-r2:0.19869\n",
      "[140]\ttrain-rmse:10.98634\ttrain-r2:0.27125\tvalid-rmse:9.84977\tvalid-r2:0.31034\n",
      "[150]\ttrain-rmse:10.37862\ttrain-r2:0.34964\tvalid-rmse:9.31622\tvalid-r2:0.38303\n",
      "[160]\ttrain-rmse:9.92636\ttrain-r2:0.40509\tvalid-rmse:8.95744\tvalid-r2:0.42964\n",
      "[170]\ttrain-rmse:9.59382\ttrain-r2:0.44428\tvalid-rmse:8.71413\tvalid-r2:0.46020\n",
      "[180]\ttrain-rmse:9.34595\ttrain-r2:0.47263\tvalid-rmse:8.55244\tvalid-r2:0.48005\n",
      "[190]\ttrain-rmse:9.15988\ttrain-r2:0.49342\tvalid-rmse:8.44786\tvalid-r2:0.49269\n",
      "[200]\ttrain-rmse:9.01715\ttrain-r2:0.50908\tvalid-rmse:8.38564\tvalid-r2:0.50013\n",
      "[210]\ttrain-rmse:8.91491\ttrain-r2:0.52015\tvalid-rmse:8.34641\tvalid-r2:0.50480\n",
      "[220]\ttrain-rmse:8.82930\ttrain-r2:0.52932\tvalid-rmse:8.32277\tvalid-r2:0.50760\n",
      "[230]\ttrain-rmse:8.76269\ttrain-r2:0.53640\tvalid-rmse:8.30887\tvalid-r2:0.50924\n",
      "[240]\ttrain-rmse:8.71004\ttrain-r2:0.54195\tvalid-rmse:8.30193\tvalid-r2:0.51006\n",
      "[250]\ttrain-rmse:8.66384\ttrain-r2:0.54680\tvalid-rmse:8.29649\tvalid-r2:0.51070\n",
      "[260]\ttrain-rmse:8.62535\ttrain-r2:0.55082\tvalid-rmse:8.29381\tvalid-r2:0.51102\n",
      "[270]\ttrain-rmse:8.59332\ttrain-r2:0.55414\tvalid-rmse:8.29034\tvalid-r2:0.51143\n",
      "[280]\ttrain-rmse:8.56503\ttrain-r2:0.55708\tvalid-rmse:8.28796\tvalid-r2:0.51171\n",
      "[290]\ttrain-rmse:8.53976\ttrain-r2:0.55969\tvalid-rmse:8.28659\tvalid-r2:0.51187\n",
      "[300]\ttrain-rmse:8.51381\ttrain-r2:0.56236\tvalid-rmse:8.28935\tvalid-r2:0.51155\n",
      "[310]\ttrain-rmse:8.48420\ttrain-r2:0.56540\tvalid-rmse:8.28632\tvalid-r2:0.51190\n",
      "[320]\ttrain-rmse:8.46249\ttrain-r2:0.56762\tvalid-rmse:8.28691\tvalid-r2:0.51183\n",
      "[330]\ttrain-rmse:8.43999\ttrain-r2:0.56991\tvalid-rmse:8.28423\tvalid-r2:0.51215\n",
      "[340]\ttrain-rmse:8.41568\ttrain-r2:0.57239\tvalid-rmse:8.28313\tvalid-r2:0.51228\n",
      "[350]\ttrain-rmse:8.38980\ttrain-r2:0.57501\tvalid-rmse:8.28000\tvalid-r2:0.51265\n",
      "[360]\ttrain-rmse:8.36332\ttrain-r2:0.57769\tvalid-rmse:8.27881\tvalid-r2:0.51279\n",
      "[370]\ttrain-rmse:8.33579\ttrain-r2:0.58047\tvalid-rmse:8.27188\tvalid-r2:0.51360\n",
      "[380]\ttrain-rmse:8.31223\ttrain-r2:0.58284\tvalid-rmse:8.27152\tvalid-r2:0.51365\n",
      "[390]\ttrain-rmse:8.29179\ttrain-r2:0.58488\tvalid-rmse:8.27227\tvalid-r2:0.51356\n",
      "[400]\ttrain-rmse:8.26806\ttrain-r2:0.58726\tvalid-rmse:8.26870\tvalid-r2:0.51398\n",
      "[410]\ttrain-rmse:8.23972\ttrain-r2:0.59008\tvalid-rmse:8.26509\tvalid-r2:0.51440\n",
      "[420]\ttrain-rmse:8.21456\ttrain-r2:0.59258\tvalid-rmse:8.26054\tvalid-r2:0.51494\n",
      "[430]\ttrain-rmse:8.18769\ttrain-r2:0.59524\tvalid-rmse:8.26058\tvalid-r2:0.51493\n",
      "[440]\ttrain-rmse:8.16357\ttrain-r2:0.59762\tvalid-rmse:8.26004\tvalid-r2:0.51499\n",
      "[450]\ttrain-rmse:8.13851\ttrain-r2:0.60009\tvalid-rmse:8.26038\tvalid-r2:0.51496\n",
      "[460]\ttrain-rmse:8.11633\ttrain-r2:0.60227\tvalid-rmse:8.26123\tvalid-r2:0.51486\n",
      "[470]\ttrain-rmse:8.09531\ttrain-r2:0.60433\tvalid-rmse:8.25834\tvalid-r2:0.51519\n",
      "[480]\ttrain-rmse:8.07090\ttrain-r2:0.60671\tvalid-rmse:8.25674\tvalid-r2:0.51538\n",
      "[490]\ttrain-rmse:8.05218\ttrain-r2:0.60853\tvalid-rmse:8.25828\tvalid-r2:0.51520\n",
      "[500]\ttrain-rmse:8.02514\ttrain-r2:0.61116\tvalid-rmse:8.25752\tvalid-r2:0.51529\n",
      "[510]\ttrain-rmse:7.99972\ttrain-r2:0.61361\tvalid-rmse:8.25632\tvalid-r2:0.51543\n",
      "[520]\ttrain-rmse:7.97983\ttrain-r2:0.61553\tvalid-rmse:8.25644\tvalid-r2:0.51542\n",
      "[530]\ttrain-rmse:7.95794\ttrain-r2:0.61764\tvalid-rmse:8.25607\tvalid-r2:0.51546\n",
      "[532]\ttrain-rmse:7.95286\ttrain-r2:0.61813\tvalid-rmse:8.25679\tvalid-r2:0.51538\n"
     ]
    }
   ],
   "source": [
    "params = {}\n",
    "params['Objective'] = 'reg:linear'\n",
    "params['eta'] = 0.02\n",
    "params['max_depth'] = 4\n",
    "\n",
    "def xgb_r2_score(preds, dtrain):\n",
    "    labels = dtrain.get_label()\n",
    "    return 'r2', r2_score(labels, preds)\n",
    "watchlist = [(d_train, 'train'),(d_val,'valid')]\n",
    "clf = xgb.train(params, d_train, 1000, watchlist, early_stopping_rounds=50,\n",
    "               feval=xgb_r2_score, maximize=True, verbose_eval=10)\n",
    "    "
   ]
  },
  {
   "cell_type": "code",
   "execution_count": 33,
   "id": "b3f6f64c-9ac5-4d4d-b363-5ef135d2bc92",
   "metadata": {},
   "outputs": [],
   "source": [
    "p_test = clf.predict(d_test)"
   ]
  },
  {
   "cell_type": "code",
   "execution_count": 35,
   "id": "f16a6858-d2e6-4c3e-a991-c4f2f9056e8e",
   "metadata": {},
   "outputs": [
    {
     "data": {
      "text/html": [
       "<div>\n",
       "<style scoped>\n",
       "    .dataframe tbody tr th:only-of-type {\n",
       "        vertical-align: middle;\n",
       "    }\n",
       "\n",
       "    .dataframe tbody tr th {\n",
       "        vertical-align: top;\n",
       "    }\n",
       "\n",
       "    .dataframe thead th {\n",
       "        text-align: right;\n",
       "    }\n",
       "</style>\n",
       "<table border=\"1\" class=\"dataframe\">\n",
       "  <thead>\n",
       "    <tr style=\"text-align: right;\">\n",
       "      <th></th>\n",
       "      <th>ID</th>\n",
       "      <th>y</th>\n",
       "    </tr>\n",
       "  </thead>\n",
       "  <tbody>\n",
       "    <tr>\n",
       "      <th>0</th>\n",
       "      <td>1</td>\n",
       "      <td>83.153229</td>\n",
       "    </tr>\n",
       "    <tr>\n",
       "      <th>1</th>\n",
       "      <td>2</td>\n",
       "      <td>96.980148</td>\n",
       "    </tr>\n",
       "    <tr>\n",
       "      <th>2</th>\n",
       "      <td>3</td>\n",
       "      <td>82.968224</td>\n",
       "    </tr>\n",
       "    <tr>\n",
       "      <th>3</th>\n",
       "      <td>4</td>\n",
       "      <td>76.981483</td>\n",
       "    </tr>\n",
       "    <tr>\n",
       "      <th>4</th>\n",
       "      <td>5</td>\n",
       "      <td>112.925842</td>\n",
       "    </tr>\n",
       "    <tr>\n",
       "      <th>5</th>\n",
       "      <td>8</td>\n",
       "      <td>91.509911</td>\n",
       "    </tr>\n",
       "    <tr>\n",
       "      <th>6</th>\n",
       "      <td>10</td>\n",
       "      <td>100.502510</td>\n",
       "    </tr>\n",
       "    <tr>\n",
       "      <th>7</th>\n",
       "      <td>11</td>\n",
       "      <td>93.808548</td>\n",
       "    </tr>\n",
       "    <tr>\n",
       "      <th>8</th>\n",
       "      <td>12</td>\n",
       "      <td>117.162224</td>\n",
       "    </tr>\n",
       "    <tr>\n",
       "      <th>9</th>\n",
       "      <td>14</td>\n",
       "      <td>95.924377</td>\n",
       "    </tr>\n",
       "  </tbody>\n",
       "</table>\n",
       "</div>"
      ],
      "text/plain": [
       "   ID           y\n",
       "0   1   83.153229\n",
       "1   2   96.980148\n",
       "2   3   82.968224\n",
       "3   4   76.981483\n",
       "4   5  112.925842\n",
       "5   8   91.509911\n",
       "6  10  100.502510\n",
       "7  11   93.808548\n",
       "8  12  117.162224\n",
       "9  14   95.924377"
      ]
     },
     "execution_count": 35,
     "metadata": {},
     "output_type": "execute_result"
    }
   ],
   "source": [
    "sub = pd.DataFrame()\n",
    "sub['ID'] = id_test\n",
    "sub['y'] = p_test\n",
    "sub.to_csv('test_df.csv', index = False)\n",
    "sub.head(10)"
   ]
  },
  {
   "cell_type": "code",
   "execution_count": null,
   "id": "fd69e602-4314-4dc6-93df-d46935a02023",
   "metadata": {},
   "outputs": [],
   "source": []
  }
 ],
 "metadata": {
  "kernelspec": {
   "display_name": "Python 3 [3.10]",
   "language": "python",
   "name": "python3"
  },
  "language_info": {
   "codemirror_mode": {
    "name": "ipython",
    "version": 3
   },
   "file_extension": ".py",
   "mimetype": "text/x-python",
   "name": "python",
   "nbconvert_exporter": "python",
   "pygments_lexer": "ipython3",
   "version": "3.10.2"
  }
 },
 "nbformat": 4,
 "nbformat_minor": 5
}
